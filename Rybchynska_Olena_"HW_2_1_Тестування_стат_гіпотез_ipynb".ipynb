{
  "nbformat": 4,
  "nbformat_minor": 0,
  "metadata": {
    "colab": {
      "provenance": [],
      "include_colab_link": true
    },
    "kernelspec": {
      "name": "python3",
      "display_name": "Python 3"
    },
    "language_info": {
      "name": "python"
    }
  },
  "cells": [
    {
      "cell_type": "markdown",
      "metadata": {
        "id": "view-in-github",
        "colab_type": "text"
      },
      "source": [
        "<a href=\"https://colab.research.google.com/github/yelenana/machine_learning/blob/main/Rybchynska_Olena_%22HW_2_1_%D0%A2%D0%B5%D1%81%D1%82%D1%83%D0%B2%D0%B0%D0%BD%D0%BD%D1%8F_%D1%81%D1%82%D0%B0%D1%82_%D0%B3%D1%96%D0%BF%D0%BE%D1%82%D0%B5%D0%B7_ipynb%22.ipynb\" target=\"_parent\"><img src=\"https://colab.research.google.com/assets/colab-badge.svg\" alt=\"Open In Colab\"/></a>"
      ]
    },
    {
      "cell_type": "markdown",
      "source": [
        "В цьому ДЗ потренуємось виконувати Z-тести для тестування гіпотез в різних задачах. Для коректної імплементації та інтерпретації тестів рекоемндую переглянути спершу документацію:\n",
        "\n",
        "https://www.statsmodels.org/dev/generated/statsmodels.stats.weightstats.ztest.html\n",
        "\n",
        "### Завдання 1: Z-тест для однієї вибірки\n",
        "\n",
        "**Мета**: Перевірити, чи середнє значення вибірки відрізняється від гіпотетичного середнього.\n",
        "\n",
        "**Припущення**: Середній ріст студентів університету вважається 170 см. Ми хочемо перевірити, чи середній ріст випадкової вибірки студентів істотно більший. Вибірка задана в змінній `heights`.\n",
        "\n",
        "Для виконання завдання імпортуйте метод для проведення `ztest`, виконайте Z-тест з Python, виведіть p-value і зробіть заключення, чи справдилось припущення про середній зріст студентів на рівні значущості 0.05?\n",
        "\n",
        "Використовуємо тут Z-тест, оскільки вибірка достатньо велика (більше 30 екземплярів) і можемо вважати, що її стандартне відхилення близьке до ст. відхилення генеральної сукупності, а значить - відоме."
      ],
      "metadata": {
        "id": "ID3uSQHkQJ2J"
      }
    },
    {
      "cell_type": "code",
      "source": [
        "heights = [174, 171, 175, 179, 170, 170, 179, 175, 169, 174, 169, 169, 173, 162, 163, 169, 166,\n",
        "           173, 167, 164, 179, 170, 172, 164, 169, 175, 169, 174, 169, 169, 173, 162, 177]"
      ],
      "metadata": {
        "id": "TUYNSCDzRE7N"
      },
      "execution_count": 26,
      "outputs": []
    },
    {
      "cell_type": "markdown",
      "source": [],
      "metadata": {
        "id": "ksG56v72u-zv"
      }
    },
    {
      "cell_type": "markdown",
      "source": [
        "\n",
        "\n",
        "---\n",
        "## **Виконання завдання 1:**\n"
      ],
      "metadata": {
        "id": "kkbYQ4EVk7nd"
      }
    },
    {
      "cell_type": "markdown",
      "source": [
        "Отже, маємо що:\n",
        "\n",
        "Нульова гіпотеза в нас (H₀): Середній зріст студентів дорівнює 170 см.\n",
        "\n",
        "Альтернативна гіпотеза (H₁): Середній зріст студентів більший за 170 см (односторонній тест)"
      ],
      "metadata": {
        "id": "l439vWgblEi3"
      }
    },
    {
      "cell_type": "markdown",
      "source": [
        "1. Імпортую метод для проведення ztest"
      ],
      "metadata": {
        "id": "-qu0NnCqxzAG"
      }
    },
    {
      "cell_type": "code",
      "source": [
        "from statsmodels.stats.weightstats import ztest"
      ],
      "metadata": {
        "id": "V32HGkBiqfDR"
      },
      "execution_count": 27,
      "outputs": []
    },
    {
      "cell_type": "markdown",
      "source": [
        "2. Виконую сам тест"
      ],
      "metadata": {
        "id": "X6T-w8dMx3_i"
      }
    },
    {
      "cell_type": "code",
      "source": [
        "ztest_score, p_value = ztest(heights, value=170, alternative='larger')\n",
        "print(f\"p-value: {p_value}\")"
      ],
      "metadata": {
        "id": "uTJEZPARYMd4",
        "colab": {
          "base_uri": "https://localhost:8080/"
        },
        "outputId": "f8cb14fb-db1c-471b-8b4f-aef6a782ff73"
      },
      "execution_count": 28,
      "outputs": [
        {
          "output_type": "stream",
          "name": "stdout",
          "text": [
            "p-value: 0.19815674571091746\n"
          ]
        }
      ]
    },
    {
      "cell_type": "code",
      "source": [
        "alpha=0.05"
      ],
      "metadata": {
        "id": "eRRJQD52uSyJ"
      },
      "execution_count": 29,
      "outputs": []
    },
    {
      "cell_type": "code",
      "source": [
        "if(p_value<alpha):\n",
        "  print(\"Null hypothesis rejected\")\n",
        "else:\n",
        "  print(\"Null hypothesis accepted\")"
      ],
      "metadata": {
        "colab": {
          "base_uri": "https://localhost:8080/"
        },
        "id": "Vz67Y6awuWLh",
        "outputId": "5b50821c-7097-4350-95d1-d655d87ab13d"
      },
      "execution_count": 30,
      "outputs": [
        {
          "output_type": "stream",
          "name": "stdout",
          "text": [
            "Null hypothesis accepted\n"
          ]
        }
      ]
    },
    {
      "cell_type": "markdown",
      "source": [
        "# **Висновок:**\n",
        "\n",
        "Нульова гіпотеза підтвердилася. Це означає, що на рівні значущості 5% ми не можемо стверджувати, що середній зріст студентів істотно перевищує 170 см.\n",
        "Інакше кажучи, середній зріст вибірки може бути таким самим або трохи більшим, але це не є статистично значущим результатом."
      ],
      "metadata": {
        "id": "M5oJpyN4yDop"
      }
    },
    {
      "cell_type": "markdown",
      "source": [
        "\n",
        "\n",
        "---\n",
        "\n"
      ],
      "metadata": {
        "id": "BVCVB5d4yyS4"
      }
    },
    {
      "cell_type": "markdown",
      "source": [
        "### Завдання 2: Z-тест для двох незалежних вибірок\n",
        "\n",
        "**Завдання 2.1.**\n",
        "\n",
        "**Мета**: Перевірити, чи існує статистична різниця між середніми оцінками двох груп студентів.\n",
        "\n",
        "**Припущення**: Група A отримала новий навчальний курс, а група B продовжувала зі стандартним курсом. Ми перевіряємо, чи є новий курс ефективнішим.\n",
        "\n",
        "Виконайте Z-тест з Python, виведіть p-value і зробіть заключення, чи справдилось припущення щодо студентів на рівні значущості 0.05?"
      ],
      "metadata": {
        "id": "ga4iKM9kQa9Q"
      }
    },
    {
      "cell_type": "code",
      "source": [
        "group_a_scores = [78.55, 72.25, 79.88, 75.  , 76.54, 74.99, 87.26, 77.93, 72.71,\n",
        "       82.11, 71.9 , 79.04, 68.2 , 71.36, 78.98, 81.69, 78.86, 77.42,\n",
        "       76.49, 70.61, 74.4 , 75.7 , 83.29, 79.72, 69.18, 79.62, 76.07,\n",
        "       74.62, 81.06, 83.15, 82.66, 73.8 , 76.45, 79.66, 82.88, 75.6 ,\n",
        "       77.07, 72.47, 72.02, 82.06]\n",
        "\n",
        "group_b_scores = [81.78, 74.64, 80.02, 76.81, 71.77, 76.81, 82.69, 74.82, 82.82,\n",
        "       61.9 , 79.11, 75.44, 73.5 , 75.46, 65.06, 73.9 , 76.79, 82.39,\n",
        "       72.41, 70.96, 72.49, 79.58, 76.64, 72.35, 77.57, 75.49, 79.84,\n",
        "       71.49, 73.36, 73.04, 67.68, 76.48, 76.31, 75.03, 73.83, 67.92,\n",
        "       72.9 , 73.29, 70.99, 74.19]"
      ],
      "metadata": {
        "id": "SngJjNBJTgBp"
      },
      "execution_count": 31,
      "outputs": []
    },
    {
      "cell_type": "markdown",
      "source": [
        "---\n",
        "## **Виконання завдання 2.1:**"
      ],
      "metadata": {
        "id": "w0Q9NrofVOSt"
      }
    },
    {
      "cell_type": "markdown",
      "source": [
        "## Перевіремо гіпотезу, що середнє групи A більше за середнє групи B"
      ],
      "metadata": {
        "id": "Gy_3-qpJeaFY"
      }
    },
    {
      "cell_type": "code",
      "source": [
        "z_stat, p_value  = ztest(group_a_scores,group_b_scores,value=0)\n",
        "print(f\"Z-статистика: {z_stat:.4f}\")\n",
        "print(f\"p-value: {p_value:.4f}\")\n"
      ],
      "metadata": {
        "id": "CvftCAEHYPKL",
        "colab": {
          "base_uri": "https://localhost:8080/"
        },
        "outputId": "9fca31df-6db2-43b8-e5f1-6c7021f21af2"
      },
      "execution_count": 32,
      "outputs": [
        {
          "output_type": "stream",
          "name": "stdout",
          "text": [
            "Z-статистика: 2.3574\n",
            "p-value: 0.0184\n"
          ]
        }
      ]
    },
    {
      "cell_type": "markdown",
      "source": [
        "## Перевірка результату"
      ],
      "metadata": {
        "id": "01IaDroKc7P9"
      }
    },
    {
      "cell_type": "code",
      "source": [
        "alpha = 0.05\n",
        "if p_value < alpha:\n",
        "    print(\"Відхиляємо нульову гіпотезу — новий курс ефективніший.\")\n",
        "else:\n",
        "    print(\"Не відхиляємо нульову гіпотезу — доказів ефективності нового курсу недостатньо.\")"
      ],
      "metadata": {
        "colab": {
          "base_uri": "https://localhost:8080/"
        },
        "id": "GcJGOGL2c9Dl",
        "outputId": "291fcc9d-13af-4737-9c63-df856baeb264"
      },
      "execution_count": 33,
      "outputs": [
        {
          "output_type": "stream",
          "name": "stdout",
          "text": [
            "Відхиляємо нульову гіпотезу — новий курс ефективніший.\n"
          ]
        }
      ]
    },
    {
      "cell_type": "markdown",
      "source": [
        "# Висновок:\n",
        "Існує статистично значуща різниця між оцінками двох груп. Група A, яка проходила новий навчальний курс, показала вищі результати, ніж група B. Отже, новий курс можна вважати ефективнішим.\n",
        "\n",
        "\n",
        "\n",
        "\n",
        "---\n",
        "\n"
      ],
      "metadata": {
        "id": "DmUw_XLYexY0"
      }
    },
    {
      "cell_type": "markdown",
      "source": [
        "**Завдання 2.2.**\n",
        "\n",
        "\n",
        "**Мета**: Побачити, як впливає розмір вибірок на результат тесту.\n",
        "\n",
        "**Завдання**: Уявіть, що з групи А ми маємо тільки перші 5 записів, а з групи В - усі. Таке могло статись, якщо ми вже маємо результати тестів учнів за попередньою програмою, а тести за новою програмою здали наразі лише 5 учнів і ми вирішили не чекати довше.\n",
        "Виберіть перші 5 записів для групи А і проведіть t-test (для цього використовуємо наступний [метод](https://docs.scipy.org/doc/scipy/reference/generated/scipy.stats.ttest_ind.html)). Виведіть значення p-value. Зробіть висновок, який результат ви бачите щодо стат. значущості на рівні 0.05 для цього експерименту?\n",
        "\n",
        "Тут проводимо t-test оскільки одна з вибірок - дуже мала."
      ],
      "metadata": {
        "id": "zOxz2tU0VpJM"
      }
    },
    {
      "cell_type": "markdown",
      "source": [
        "\n",
        "\n",
        "---\n",
        "Виконання завдання 2.2\n"
      ],
      "metadata": {
        "id": "KedtlW5uiicR"
      }
    },
    {
      "cell_type": "code",
      "source": [
        "import numpy as np\n",
        "from scipy.stats import ttest_ind"
      ],
      "metadata": {
        "id": "IfeuvZwBirmx"
      },
      "execution_count": 34,
      "outputs": []
    },
    {
      "cell_type": "code",
      "source": [
        "group_a_small = group_a_scores[:5]"
      ],
      "metadata": {
        "id": "D9znE6liYQmP"
      },
      "execution_count": 35,
      "outputs": []
    },
    {
      "cell_type": "code",
      "source": [
        "mean_a = np.mean(group_a_small)\n",
        "std_a = np.std(group_a_small, ddof=1)"
      ],
      "metadata": {
        "id": "oN0RoLD0oZI8"
      },
      "execution_count": 36,
      "outputs": []
    },
    {
      "cell_type": "code",
      "source": [
        "mean_b = np.mean(group_b_scores)\n",
        "std_b = np.std(group_b_scores, ddof=1)"
      ],
      "metadata": {
        "id": "by-X9c60ohCI"
      },
      "execution_count": 37,
      "outputs": []
    },
    {
      "cell_type": "code",
      "source": [
        "print(f\"Середнє значення групи A (5 записів): {mean_a:.2f}\")\n",
        "print(f\"Стандартне відхилення групи A: {std_a:.2f}\")\n",
        "print(f\"Середнє значення групи B: {mean_b:.2f}\")\n",
        "print(f\"Стандартне відхилення групи B: {std_b:.2f}\")"
      ],
      "metadata": {
        "colab": {
          "base_uri": "https://localhost:8080/"
        },
        "id": "7iYzuoENt4Mb",
        "outputId": "f64ca14d-4443-4bba-972c-2a35f6b176e3"
      },
      "execution_count": 38,
      "outputs": [
        {
          "output_type": "stream",
          "name": "stdout",
          "text": [
            "Середнє значення групи A (5 записів): 76.44\n",
            "Стандартне відхилення групи A: 3.00\n",
            "Середнє значення групи B: 74.74\n",
            "Стандартне відхилення групи B: 4.52\n"
          ]
        }
      ]
    },
    {
      "cell_type": "code",
      "source": [
        "t_stat, p_value = ttest_ind(group_a_small, group_b_scores, equal_var=False)\n",
        "print(f\"\\nt-статистика: {t_stat:.3f}\")\n",
        "print(f\"p-value: {p_value:.3f}\")"
      ],
      "metadata": {
        "colab": {
          "base_uri": "https://localhost:8080/"
        },
        "id": "fB4rUnXsuEDU",
        "outputId": "5958ddb3-f8b9-457a-a185-664cb83f5aeb"
      },
      "execution_count": 39,
      "outputs": [
        {
          "output_type": "stream",
          "name": "stdout",
          "text": [
            "\n",
            "t-статистика: 1.123\n",
            "p-value: 0.301\n"
          ]
        }
      ]
    },
    {
      "cell_type": "code",
      "source": [
        "alpha = 0.05\n",
        "if p_value < alpha:\n",
        "    print(\"Висновок: Різниця статистично значуща\")\n",
        "else:\n",
        "    print(\"Висновок: Різниця не є статистично значущою\")"
      ],
      "metadata": {
        "colab": {
          "base_uri": "https://localhost:8080/"
        },
        "id": "rgYxTWJ_uZIr",
        "outputId": "8a4123e7-e9ff-4589-f217-613bb3e32268"
      },
      "execution_count": 40,
      "outputs": [
        {
          "output_type": "stream",
          "name": "stdout",
          "text": [
            "Висновок: Різниця не є статистично значущою\n"
          ]
        }
      ]
    },
    {
      "cell_type": "markdown",
      "source": [
        "### **Висновок:** На рівні alpha=0.05 немає статистично значущої різниці між середніми оцінками двох груп. Це означає, що на основі лише 5 записів із групи A ми не можемо зробити висновок, що нова програма суттєво краща.\n",
        "\n",
        "\n",
        "\n",
        "---\n",
        "\n"
      ],
      "metadata": {
        "id": "JHWys2q-utHz"
      }
    },
    {
      "cell_type": "markdown",
      "source": [
        "\n",
        "### Завдання 3\\*: Z-тест для двох **пов'язаних** вибірок\n",
        "\n",
        "**Мета**: Перевірити, чи вплинув тренінг на продуктивність працівників, коли всі справробітники проходили тренінг.\n",
        "\n",
        "**Припущення**: Наші працівники проходять однаковий тренінг, і ми хочемо з'ясувати, чи покращилися їхні показники після тренінгу на рівні значущості 0.05. Виконайте Z-тест з Python, виведіть p-value і зробіть заключення, чи поліпшились показники працівників на рівні значущості 0.05?\n",
        "\n",
        "Зверніть увагу, ці вибірки повʼязані між собою, значить не буде коректно виконати z-test між ними, натомість, ми можемо порівняти, чи різниця в результатах (продуктивності співробітників) є стат значущою."
      ],
      "metadata": {
        "id": "3TcRHLLz0SLw"
      }
    },
    {
      "cell_type": "code",
      "source": [
        "before_training = [57.82, 37.63, 36.8 , 55.22, 52.97, 52.5 , 53.46, 43.2 , 52.32,\n",
        "       52.93, 42.86, 68.66, 54.74, 38.09, 56.57, 40.25, 57.87, 61.59,\n",
        "       41.79, 59.63, 54.13, 58.22, 68.97, 47.55, 42.46, 41.1 , 41.84,\n",
        "       49.23, 53.41, 52.77]\n",
        "\n",
        "after_training = [62.47, 40.66, 42.7 , 57.69, 61.41, 56.76, 54.75, 44.06, 56.29,\n",
        "       55.48, 47.28, 72.6 , 57.59, 39.39, 56.54, 42.36, 62.58, 65.01,\n",
        "       42.3 , 62.98, 57.9 , 59.45, 72.28, 50.66, 43.18, 44.82, 45.96,\n",
        "       54.4 , 58.52, 53.01]"
      ],
      "metadata": {
        "id": "uxrjagJFW1GC"
      },
      "execution_count": 41,
      "outputs": []
    },
    {
      "cell_type": "markdown",
      "source": [
        "\n",
        "\n",
        "---\n",
        "### **Виконання завдання 3:**\n",
        "Якщо у нас пов'язані вибірки, то кожне спостереження в одній вибірці має чіткий зв'язок з відповідним спостереженням в іншій вибірці. Для таких вибіро спочатку розраховується різниця між початковим станом і набутим станом.\n",
        "\n",
        "Обчислимо різницю для 2-х пов'язаних вибірок:\n"
      ],
      "metadata": {
        "id": "DIi01LR36W3n"
      }
    },
    {
      "cell_type": "code",
      "source": [
        "differences = np.array(after_training) - np.array(before_training)"
      ],
      "metadata": {
        "id": "f9-5CqsL7byX"
      },
      "execution_count": 42,
      "outputs": []
    },
    {
      "cell_type": "code",
      "source": [
        "z_stat, p_value = ztest(differences, value=0)\n",
        "print(f\"Z-статистика: {z_stat:.4f}\")\n",
        "print(f\"p-value: {p_value:.4f}\")"
      ],
      "metadata": {
        "colab": {
          "base_uri": "https://localhost:8080/"
        },
        "id": "8f9Hl8sK75OY",
        "outputId": "17b7a265-ea3e-4f2d-b1ce-b6286d4a9c5e"
      },
      "execution_count": 43,
      "outputs": [
        {
          "output_type": "stream",
          "name": "stdout",
          "text": [
            "Z-статистика: 9.1389\n",
            "p-value: 0.0000\n"
          ]
        }
      ]
    },
    {
      "cell_type": "code",
      "source": [
        "alpha = 0.05\n",
        "if p_value < alpha:\n",
        "    print(\"Відхиляємо нульову гіпотезу — різниця в продуктивності працівників до та після тренінгу є статистично значущою.\")\n",
        "else:\n",
        "    print(\"Не відхиляємо нульову гіпотезу — доказів ефективності тренінгу недостатньо.\")"
      ],
      "metadata": {
        "colab": {
          "base_uri": "https://localhost:8080/"
        },
        "id": "xyI7rJQI8RQ9",
        "outputId": "4028a93e-7132-49da-b3e5-007dfb035bc5"
      },
      "execution_count": 44,
      "outputs": [
        {
          "output_type": "stream",
          "name": "stdout",
          "text": [
            "Відхиляємо нульову гіпотезу — різниця в продуктивності працівників до та після тренінгу є статистично значущою.\n"
          ]
        }
      ]
    },
    {
      "cell_type": "markdown",
      "source": [
        "### **Висновок:**\n",
        "Оскільки значення p-value < 0.05, ми відкидаємо нульову гіпотезу.\n",
        "Це означає, що різниця в продуктивності працівників до та після тренінгу є статистично значущою.\n",
        "Отже, тренінг мав позитивний ефект на продуктивність співробітників."
      ],
      "metadata": {
        "id": "fXVgE7A98pX1"
      }
    }
  ]
}